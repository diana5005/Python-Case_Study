{
 "cells": [
  {
   "cell_type": "markdown",
   "metadata": {},
   "source": [
    "Create Two classes , parentClass and childclass named Area and Area2 respectively. In parentclass , define a method area1 and in that method Implement Area of rectangle(length * breadth) , In ChildClass Area2 , construct a constructor def init(self, length ,breadth, height): , define override method that is area1 and implement the area of triangle(0.5 * length *breadth ) , and also implement a method volume to print volume of rectangle(length * breadth * heigth). and At last create an object and pass the values for Area2 and call area1() and volume() methods and print the result. *"
   ]
  },
  {
   "cell_type": "code",
   "execution_count": 3,
   "metadata": {},
   "outputs": [
    {
     "name": "stdout",
     "output_type": "stream",
     "text": [
      "Area of the triangle is:  3.0\n",
      "Volume of the rectangle is:  24\n"
     ]
    }
   ],
   "source": [
    "#create parent class\n",
    "class Area:\n",
    "    def area1(self):\n",
    "        area = self.length*self.breadth\n",
    "        print(\"Area of the rectangle is: \",area)\n",
    "\n",
    "#creating child class\n",
    "class Area2(Area):\n",
    "    def __init__(self,length,breadth,height):\n",
    "        self.length = length\n",
    "        self.breadth = breadth\n",
    "        self.height = height\n",
    "        \n",
    "    def area1(self):\n",
    "        area_triangle = 0.5 * self.length * self.breadth\n",
    "        print(\"Area of the triangle is: \",area_triangle)\n",
    "    \n",
    "    def volume(self):\n",
    "        volume_rectangle = self.length * self.breadth * self.height\n",
    "        print(\"Volume of the rectangle is: \",volume_rectangle)\n",
    "        \n",
    "area=Area2(2,3,4)\n",
    "area.area1()\n",
    "area.volume()\n",
    "    "
   ]
  },
  {
   "cell_type": "code",
   "execution_count": null,
   "metadata": {},
   "outputs": [],
   "source": []
  }
 ],
 "metadata": {
  "kernelspec": {
   "display_name": "Python 3",
   "language": "python",
   "name": "python3"
  },
  "language_info": {
   "codemirror_mode": {
    "name": "ipython",
    "version": 3
   },
   "file_extension": ".py",
   "mimetype": "text/x-python",
   "name": "python",
   "nbconvert_exporter": "python",
   "pygments_lexer": "ipython3",
   "version": "3.8.3"
  }
 },
 "nbformat": 4,
 "nbformat_minor": 4
}

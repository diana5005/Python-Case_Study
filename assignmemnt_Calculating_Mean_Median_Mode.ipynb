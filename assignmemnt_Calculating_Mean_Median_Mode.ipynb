{
  "nbformat": 4,
  "nbformat_minor": 0,
  "metadata": {
    "colab": {
      "name": "assignmemnt2.ipynb",
      "provenance": [],
      "include_colab_link": true
    },
    "kernelspec": {
      "name": "python3",
      "display_name": "Python 3"
    },
    "language_info": {
      "name": "python"
    }
  },
  "cells": [
    {
      "cell_type": "markdown",
      "metadata": {
        "id": "view-in-github",
        "colab_type": "text"
      },
      "source": [
        "<a href=\"https://colab.research.google.com/github/diana5005/Python-Case_Study/blob/main/assignmemnt_Calculating_Mean_Median_Mode.ipynb\" target=\"_parent\"><img src=\"https://colab.research.google.com/assets/colab-badge.svg\" alt=\"Open In Colab\"/></a>"
      ]
    },
    {
      "cell_type": "markdown",
      "metadata": {
        "id": "M29v9-12CNA5"
      },
      "source": [
        "take a user input list of any length and print mean,median,mode.\n",
        "\n",
        "mean=sum of observations/total number of observations\n",
        "\n",
        "median=for even numbered list: average of middle terms\n",
        "       for odd numbered list : middle term\n",
        "\n",
        "mode= most repeated value\n",
        "\n",
        "*note: for calculating median,values must be sorted*"
      ]
    },
    {
      "cell_type": "code",
      "metadata": {
        "id": "SrsxBF0jByEU"
      },
      "source": [
        "#your code goes here\n",
        "\n",
        "#import library\n",
        "import numpy as np\n",
        "from scipy import stats\n",
        "\n",
        "# take user input length\n",
        "length_list = int(input(\"Enter the length of the list\\n\"))\n",
        "\n",
        "#take user input elements in list\n",
        "ele_list=[]\n",
        "for i in range(length_list):\n",
        "    ele = float(input())\n",
        "    ele_list.append(ele)\n",
        "print(\"The original list is:\")\n",
        "print(ele_list)\n",
        "\n",
        "#calculate the mean, median, mode\n",
        "mean = np.mean(ele_list)\n",
        "median = np.median(ele_list)\n",
        "mode = stats.mode(ele_list)\n",
        "\n",
        "print(\"\\nThe mean of the given list is :\",mean)\n",
        "print(\"\\nThe median of the given list is :\",median)\n",
        "print(\"\\nThe mode of the given list is :\",mode)"
      ],
      "execution_count": null,
      "outputs": []
    },
    {
      "cell_type": "code",
      "metadata": {
        "id": "PdEQaSEUjCSh"
      },
      "source": [
        "# take user input length\n",
        "length = int(input(\"Enter the length of the list\\n\"))\n",
        "\n",
        "#take user input elements in list\n",
        "ele_list=[]\n",
        "for i in range(length):\n",
        "    ele = float(input())\n",
        "    ele_list.append(ele)\n",
        "print(\"The original list is:\")\n",
        "print(ele_list)\n",
        "\n",
        "#calculating mean\n",
        "sum_list = sum(ele_list)\n",
        "mean = sum_list/length\n",
        "print(\"\\nThe mean of the given list is :\",mean)\n",
        "\n",
        "#calculating mode\n",
        "ele_list.sort()\n",
        "if length%2 == 0:\n",
        "  mid1 = ele_list[length//2]\n",
        "  mid2 = ele_list[(length//2)-1]\n",
        "  median = (mid1+mid2)/2\n",
        "else:\n",
        "  median = ele_list[length//2]\n",
        "print(\"\\nThe median of the given list is:\",median) \n",
        "\n",
        "#calculating mode\n",
        "from collections import Counter\n",
        "ele_dict = dict(Counter(ele_list))\n",
        "mode = [k for k, v in ele_dict.items() if v == max(list(ele_dict.values())) ]\n",
        "print(\"\\nThe mode of the given list are :\", mode)"
      ],
      "execution_count": null,
      "outputs": []
    }
  ]
}
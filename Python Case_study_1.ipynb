{
 "cells": [
  {
   "cell_type": "code",
   "execution_count": 6,
   "metadata": {},
   "outputs": [
    {
     "name": "stdout",
     "output_type": "stream",
     "text": [
      "Enter the number of input\n",
      "3\n",
      "Enter the number of state_id\n",
      "10\n",
      "Enter the name of the state\n",
      "kolkata\n",
      "Enter the number of affected person\n",
      "1200\n",
      "Enter the days of lockdown\n",
      "14\n",
      "Enter the number of state_id\n",
      "20\n",
      "Enter the name of the state\n",
      "delhi\n",
      "Enter the number of affected person\n",
      "asdfghj\n",
      "Please enter a correct input\n"
     ]
    }
   ],
   "source": [
    "class State:\n",
    "    def __init__(self, state_id, state_name, affected_count, days_of_lockdown):\n",
    "        self.state_id = state_id\n",
    "        self.state_name = state_name\n",
    "        self.affected_count = affected_count\n",
    "        self.days_of_lockdown = days_of_lockdown\n",
    "        \n",
    "    def increase_lockdown(self, number_of_weeks,days_of_lockdown):\n",
    "        updated_days_of_lockdown = days_of_lockdown + (7*number_of_weeks)\n",
    "        return updated_days_of_lockdown\n",
    "    \n",
    "    \n",
    "\n",
    "class Country:\n",
    "    def __init__(self, country_name , state_list):\n",
    "        self.country_name = country_name\n",
    "        self.state_list = state_list\n",
    "        \n",
    "    def calculate_increase_in_lockdown_period(self, increment_days, state_id,day):\n",
    "        b = State.increase_lockdown(self,increment_days,day)\n",
    "        return b\n",
    "    \n",
    "    \n",
    "if __name__=='__main__':\n",
    "\n",
    "    try:\n",
    "    \n",
    "        number_of_state_object = int(input(\"Enter the number of input\\n\"))\n",
    "        state_list=[]\n",
    "        for i in range(number_of_state_object):\n",
    "            state_id = int(input(\"Enter the number of state_id\\n\"))\n",
    "            state_name = input(\"Enter the name of the state\\n\")\n",
    "            affected_count = int(input(\"Enter the number of affected person\\n\"))\n",
    "            days_of_lockdown = int(input(\"Enter the days of lockdown\\n\"))\n",
    "            s=State(state_id, state_name, affected_count, days_of_lockdown)\n",
    "            state_list.append(s)\n",
    "\n",
    "        input_state_id = int(input(\"Enter your state Id\\n\"))\n",
    "        week = int(input(\"Enter the number of week\\n\"))\n",
    "\n",
    "        c = Country(\"abc\", state_list)\n",
    "        for i in state_list:\n",
    "            if input_state_id == i.state_id:\n",
    "                day=i.days_of_lockdown\n",
    "                print(i.state_name, c.calculate_increase_in_lockdown_period(week,input_state_id,day))\n",
    "                break\n",
    "        else:\n",
    "            print(\"None\")\n",
    "    except ValueError:\n",
    "        print(\"Please enter a correct input\")\n",
    "        \n"
   ]
  },
  {
   "cell_type": "code",
   "execution_count": null,
   "metadata": {},
   "outputs": [],
   "source": []
  }
 ],
 "metadata": {
  "kernelspec": {
   "display_name": "Python 3",
   "language": "python",
   "name": "python3"
  },
  "language_info": {
   "codemirror_mode": {
    "name": "ipython",
    "version": 3
   },
   "file_extension": ".py",
   "mimetype": "text/x-python",
   "name": "python",
   "nbconvert_exporter": "python",
   "pygments_lexer": "ipython3",
   "version": "3.8.3"
  }
 },
 "nbformat": 4,
 "nbformat_minor": 4
}

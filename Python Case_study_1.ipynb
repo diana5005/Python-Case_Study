{
 "cells": [
  {
   "cell_type": "code",
   "execution_count": 5,
   "metadata": {},
   "outputs": [
    {
     "name": "stdout",
     "output_type": "stream",
     "text": [
      "Enter the number of input\n",
      "1\n",
      "Enter the number of state_id\n",
      "10\n",
      "Enter the name of the state\n",
      "kol\n",
      "Enter the number of affected person\n",
      "asdfgh\n",
      "Please enter a correct input\n"
     ]
    },
    {
     "ename": "NameError",
     "evalue": "name '__main__' is not defined",
     "output_type": "error",
     "traceback": [
      "\u001b[1;31m---------------------------------------------------------------------------\u001b[0m",
      "\u001b[1;31mValueError\u001b[0m                                Traceback (most recent call last)",
      "\u001b[1;32m<ipython-input-5-def6e6c13d1e>\u001b[0m in \u001b[0;36m<module>\u001b[1;34m\u001b[0m\n\u001b[0;32m     32\u001b[0m             \u001b[0mstate_name\u001b[0m \u001b[1;33m=\u001b[0m \u001b[0minput\u001b[0m\u001b[1;33m(\u001b[0m\u001b[1;34m\"Enter the name of the state\\n\"\u001b[0m\u001b[1;33m)\u001b[0m\u001b[1;33m\u001b[0m\u001b[1;33m\u001b[0m\u001b[0m\n\u001b[1;32m---> 33\u001b[1;33m             \u001b[0maffected_count\u001b[0m \u001b[1;33m=\u001b[0m \u001b[0mint\u001b[0m\u001b[1;33m(\u001b[0m\u001b[0minput\u001b[0m\u001b[1;33m(\u001b[0m\u001b[1;34m\"Enter the number of affected person\\n\"\u001b[0m\u001b[1;33m)\u001b[0m\u001b[1;33m)\u001b[0m\u001b[1;33m\u001b[0m\u001b[1;33m\u001b[0m\u001b[0m\n\u001b[0m\u001b[0;32m     34\u001b[0m             \u001b[0mdays_of_lockdown\u001b[0m \u001b[1;33m=\u001b[0m \u001b[0mint\u001b[0m\u001b[1;33m(\u001b[0m\u001b[0minput\u001b[0m\u001b[1;33m(\u001b[0m\u001b[1;34m\"Enter the days of lockdown\\n\"\u001b[0m\u001b[1;33m)\u001b[0m\u001b[1;33m)\u001b[0m\u001b[1;33m\u001b[0m\u001b[1;33m\u001b[0m\u001b[0m\n",
      "\u001b[1;31mValueError\u001b[0m: invalid literal for int() with base 10: 'asdfgh'",
      "\nDuring handling of the above exception, another exception occurred:\n",
      "\u001b[1;31mNameError\u001b[0m                                 Traceback (most recent call last)",
      "\u001b[1;32m<ipython-input-5-def6e6c13d1e>\u001b[0m in \u001b[0;36m<module>\u001b[1;34m\u001b[0m\n\u001b[0;32m     49\u001b[0m     \u001b[1;32mexcept\u001b[0m \u001b[0mValueError\u001b[0m\u001b[1;33m:\u001b[0m\u001b[1;33m\u001b[0m\u001b[1;33m\u001b[0m\u001b[0m\n\u001b[0;32m     50\u001b[0m         \u001b[0mprint\u001b[0m\u001b[1;33m(\u001b[0m\u001b[1;34m\"Please enter a correct input\"\u001b[0m\u001b[1;33m)\u001b[0m\u001b[1;33m\u001b[0m\u001b[1;33m\u001b[0m\u001b[0m\n\u001b[1;32m---> 51\u001b[1;33m         \u001b[0m__main__\u001b[0m\u001b[1;33m(\u001b[0m\u001b[1;33m)\u001b[0m\u001b[1;33m\u001b[0m\u001b[1;33m\u001b[0m\u001b[0m\n\u001b[0m",
      "\u001b[1;31mNameError\u001b[0m: name '__main__' is not defined"
     ]
    }
   ],
   "source": [
    "class State:\n",
    "    def __init__(self, state_id, state_name, affected_count, days_of_lockdown):\n",
    "        self.state_id = state_id\n",
    "        self.state_name = state_name\n",
    "        self.affected_count = affected_count\n",
    "        self.days_of_lockdown = days_of_lockdown\n",
    "        \n",
    "    def increase_lockdown(self, number_of_weeks,days_of_lockdown):\n",
    "        updated_days_of_lockdown = days_of_lockdown + (7*number_of_weeks)\n",
    "        return updated_days_of_lockdown\n",
    "    \n",
    "    \n",
    "\n",
    "class Country:\n",
    "    def __init__(self, country_name , state_list):\n",
    "        self.country_name = country_name\n",
    "        self.state_list = state_list\n",
    "        \n",
    "    def calculate_increase_in_lockdown_period(self, increment_days, state_id,day):\n",
    "        b = State.increase_lockdown(self,increment_days,day)\n",
    "        return b\n",
    "    \n",
    "    \n",
    "if __name__=='__main__':\n",
    "\n",
    "    try:\n",
    "    \n",
    "        number_of_state_object = int(input(\"Enter the number of input\\n\"))\n",
    "        state_list=[]\n",
    "        for i in range(number_of_state_object):\n",
    "            state_id = int(input(\"Enter the number of state_id\\n\"))\n",
    "            state_name = input(\"Enter the name of the state\\n\")\n",
    "            affected_count = int(input(\"Enter the number of affected person\\n\"))\n",
    "            days_of_lockdown = int(input(\"Enter the days of lockdown\\n\"))\n",
    "            s=State(state_id, state_name, affected_count, days_of_lockdown)\n",
    "            state_list.append(s)\n",
    "\n",
    "        input_state_id = int(input(\"Enter your state Id\\n\"))\n",
    "        week = int(input(\"Enter the number of week\\n\"))\n",
    "\n",
    "        c = Country(\"abc\", state_list)\n",
    "        for i in state_list:\n",
    "            if input_state_id == i.state_id:\n",
    "                day=i.days_of_lockdown\n",
    "                print(i.state_name, c.calculate_increase_in_lockdown_period(week,input_state_id,day))\n",
    "                break\n",
    "        else:\n",
    "            print(\"None\")\n",
    "    except ValueError:\n",
    "        print(\"Please enter a correct input\")\n",
    "        \n"
   ]
  },
  {
   "cell_type": "code",
   "execution_count": null,
   "metadata": {},
   "outputs": [],
   "source": []
  }
 ],
 "metadata": {
  "kernelspec": {
   "display_name": "Python 3",
   "language": "python",
   "name": "python3"
  },
  "language_info": {
   "codemirror_mode": {
    "name": "ipython",
    "version": 3
   },
   "file_extension": ".py",
   "mimetype": "text/x-python",
   "name": "python",
   "nbconvert_exporter": "python",
   "pygments_lexer": "ipython3",
   "version": "3.8.3"
  }
 },
 "nbformat": 4,
 "nbformat_minor": 4
}
